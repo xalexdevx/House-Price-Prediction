{
 "cells": [
  {
   "cell_type": "markdown",
   "id": "26450351",
   "metadata": {},
   "source": [
    "Purpose of this file is to first write down all the essential information regarding the Finnish Housing Market. \n",
    "\n",
    "The source uset is the book by Petri Roininen \"Asunto elämäsi tärkein sijoitus\", published by Alma Talent in 2018. \n",
    "\n",
    "I write notes and codes about housing market in Finland, because I am particularly interested in the area, and in evaluating profitable investments. It seems that house prices keep rising or staying the same from year to year regardless of covid, deflation, high interest rates etc. Nevertheless, rents seems to tend to rise. "
   ]
  },
  {
   "cell_type": "markdown",
   "id": "a64bbfc4",
   "metadata": {},
   "source": [
    "Nordean mukaan suomalaisen asunnon keskihinta on ollut liki 164 000€ \n",
    "Tilastokeskuksen mukaan asuntoja on noin 2.8 miljoonaa \n",
    "=> Asunnot pääkaupunkiseudulla ovat tyypillisesti arvokkaampia \n",
    "\n",
    "Helsingissä vuonna 2016 noi 48% asui vuokra-asunnoissa kun taas Outokumpussa 26% \n",
    "=> Vuokrien hinnat jatkavat nousuaan \n",
    "\n",
    "Asuntokunnat, joissa on 1 tai 2 henkilöä ovat olleet jatkuvassa kasvussa, kun sitä suuremmat asuntokunnat laskussa.\n",
    "Jatkuva ikääntyminen vaikuttaa tähän myös, ja hoivakotien tarve todennäköisesti kasvaa.\n",
    "Nuoret haluavat asua enemmän suuremmissa kaupungeissa. Osittain johtuu työpaikkatarjonnan takia. \n",
    "Maahanmuuttjat hakeutuvat suurimpiin kaupunkeihin \n",
    "=> Kysyntä suht. pieniin asuntoihin suurempi  \n",
    "=> Vuokrat ja hinnat pk-seudulla jatkavat kasvuaan \n",
    "\n",
    "Huomioitavaa on kuitenkin maahanmuuttajien suhteellisen osuuden jatkuvaa kasvua, mikä saattaa vaikuttaa kolmioiden, neliöiden yms kysyntään. On myös huomioitava, että osalla tästä väestöstä on rajoitetut resurssit, minkä takia Kela ja muut tukea myöntävät organisaatiot saattavat määrätä kattorajan korvauksille. \n",
    "=> Edulliset isommat vuokraasunnot lähiöistä kiinnostavat maahanmuuttajia. \n",
    "\n",
    "Kalustettujen asuntojen nopeasti kasvanut kysyntä perustuu yhteiskunnan ja asumisen dynamiikan kasvuun. Vuokralaisten vaihtuvuus on kasvanut opintojen ja töiden takia. \n",
    "=>Kalustetut asunnot kuitenkin tarjoavat parempaa vuokratuottoa. \n",
    "\n",
    "Isot asunnot esim pääkaupunkiseudulla eivät ole saatavilla taloudellisen tilanteen/kannattavuuden vuoksi. Kimppakämpät tarjoavat tähän ratkaisun sillä 1-2 maksavan henkilön sijaan olisi 3-5 henkilöä. "
   ]
  },
  {
   "cell_type": "markdown",
   "id": "375311b0",
   "metadata": {},
   "source": [
    "Asunnn omistajan täytyy ymmärtää, että välittäjä ei aidosti ole myyjän intressien edustaja kaupankäyntinnissä. Välittäjän kannalta on aina edullisempaa saada asunto myytyä 280 000 eurolla ja 2% välityspalkkiolla kuin hakea 295 000 euron hintaa ja riskeerata kauppa. Myyjän kannalta ero on 15 000 euroa, mutta välittäjän välityspalkkio on lähes sama. "
   ]
  },
  {
   "cell_type": "code",
   "execution_count": 2,
   "id": "dbdb70d6",
   "metadata": {},
   "outputs": [
    {
     "name": "stdout",
     "output_type": "stream",
     "text": [
      "Korot laina-ajalta yhteensä, kun laina-aika on 10 vuotta: 13860 euroa\n",
      "\n",
      "Verrattuna siihen jos lainan määrä on 200 000euroa ja laina-aika on 30 vuotta:\n",
      "\n",
      "Korot laina-ajalta yhteensä, kun laina-aika on 30 vuotta: 103480 euroa\n"
     ]
    }
   ],
   "source": [
    "\n",
    "# Laina-aikojen pidentymisen merkitys asunnon ostokykyyn. \n",
    "Lainan_määrä_1 = 87300 \n",
    "Laina_aika_1 = 10 \n",
    "Kuukausierä = 843 #euroa \n",
    "erien_lukumäärä_1 = Laina_aika_1 * 12\n",
    "korot_laina_ajalta_yhteensä_1 = Kuukausierä * erien_lukumäärä_1 - Lainan_määrä_1\n",
    "print(\"Korot laina-ajalta yhteensä, kun laina-aika on 10 vuotta:\", korot_laina_ajalta_yhteensä_1, \"euroa\")\n",
    "print()\n",
    "print(\"Verrattuna siihen jos lainan määrä on 200 000euroa ja laina-aika on 30 vuotta:\")\n",
    "print()\n",
    "Lainan_määrä_2 = 200000 \n",
    "Laina_aika_2 = 30 \n",
    "Kuukausierä = 843 #euroa   \n",
    "erien_lukumäärä_2 = Laina_aika_2 * 12\n",
    "korot_laina_ajalta_yhteensä_2 = Kuukausierä * erien_lukumäärä_2 - Lainan_määrä_2\n",
    "print(\"Korot laina-ajalta yhteensä, kun laina-aika on 30 vuotta:\", korot_laina_ajalta_yhteensä_2, \"euroa\")"
   ]
  },
  {
   "cell_type": "code",
   "execution_count": 13,
   "id": "f3387880",
   "metadata": {},
   "outputs": [
    {
     "name": "stdout",
     "output_type": "stream",
     "text": [
      "-16705.08 lähiö\n",
      "vs\n",
      "268.0 keskusta\n",
      "korjaa tämä ottamalla huomioon myös korot ja lainanlyhennykset oikein\n"
     ]
    }
   ],
   "source": [
    "# Tämän perusteella, kumpi on parempi investointi ensiasunnon ostajalle, joka pyrkii maksimoimaan tuottoa ja myydä asunnon 2-3 vuoden kuluessa kun ei tarvitse maksaa pääomaveroa\"\n",
    "\n",
    "\n",
    "asunto_lähiö = 87300\n",
    "lainanmaksu_lähiö = Kuukausierä * 24 # 2 vuotta\n",
    "asunto_keskusta = 200000\n",
    "lainanmaksu_keskusta = Kuukausierä * 24 # 2 vuotta\n",
    "#oletetaan että asunnot lähiössä nousevat arvoa 2% vuodessa ja keskustassa 5% vuodessa\n",
    "asunto_lähiö_arvo = asunto_lähiö * (1 + 0.02)**2\n",
    "asunto_keskusta_arvo = asunto_keskusta * (1 + 0.05)**2\n",
    "\n",
    "print(f\"{asunto_lähiö_arvo - asunto_lähiö - lainanmaksu_lähiö} lähiö\")\n",
    "print(\"vs\")\n",
    "print(f'{asunto_keskusta_arvo - asunto_keskusta - lainanmaksu_keskusta} keskusta')\n",
    "print(\"korjaa tämä ottamalla huomioon myös korot ja lainanlyhennykset oikein\")\n"
   ]
  },
  {
   "cell_type": "markdown",
   "id": "8060d68b",
   "metadata": {},
   "source": [
    "Jotain tärkeimpiä periaatteita ensiasunnon kannalta: \n",
    "-Osta alueilta, jotka tunnet\n",
    "-Laske kustannukset yläkanttiin\n",
    "-Valitse tarkkaan, kenet otat vuokralaiseksi\n",
    "-Älä ole ahne\n",
    "-Varo uusia asuntoja\n",
    "-Pidä puskurirahaa tilillä\n",
    "-Pienistä saa paremman tuoton\n",
    "-Julkisivuremontti on tärkein\n",
    "-Vältä huonon rakentamisen aikoja\n",
    "-Tärkeintä on ostaa oikein\n"
   ]
  },
  {
   "cell_type": "code",
   "execution_count": null,
   "id": "f191f4c7",
   "metadata": {},
   "outputs": [],
   "source": [
    "# Seuraavaksi tämän projektin osalta olisi hankkia dataa asuntomarkkinoihin ja maaomistukseen liittyen. Julkisista lähteistä tilastokeskus, kaupparekisteri, kiinteistörekisteri jne.\n",
    "# Toissijainen lähde on web scrapingin avulla Oikotie, Etuovi.com, Tori.fi jne.\n",
    "# Näin luodaan SQL tietokanta, josta voidaan tehdä erilaisia hakuja ja analyysejä.\n",
    "# Analyysit toteutetaan Pythonin Pandas kirjaston avulla ja kokeilemalla metabase ja "
   ]
  },
  {
   "cell_type": "code",
   "execution_count": null,
   "id": "f727adb2",
   "metadata": {},
   "outputs": [],
   "source": []
  }
 ],
 "metadata": {
  "kernelspec": {
   "display_name": "base",
   "language": "python",
   "name": "python3"
  },
  "language_info": {
   "codemirror_mode": {
    "name": "ipython",
    "version": 3
   },
   "file_extension": ".py",
   "mimetype": "text/x-python",
   "name": "python",
   "nbconvert_exporter": "python",
   "pygments_lexer": "ipython3",
   "version": "3.12.2"
  }
 },
 "nbformat": 4,
 "nbformat_minor": 5
}

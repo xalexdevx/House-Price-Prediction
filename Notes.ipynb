{
 "cells": [
  {
   "cell_type": "markdown",
   "id": "26450351",
   "metadata": {},
   "source": [
    "Purpose of this file is to first write down all the essential information regarding the Finnish Housing Market. \n",
    "\n",
    "The source uset is the book by Petri Roininen \"Asunto elämäsi tärkein sijoitus\", published by Alma Talent in 2018. \n",
    "\n",
    "I write notes and codes about housing market in Finland, because I am particularly interested in the area, and in evaluating profitable investments. It seems that house prices keep rising or staying the same from year to year regardless of covid, deflation, high interest rates etc. Nevertheless, rents seems to tend to rise. "
   ]
  },
  {
   "cell_type": "markdown",
   "id": "a64bbfc4",
   "metadata": {},
   "source": []
  }
 ],
 "metadata": {
  "language_info": {
   "name": "python"
  }
 },
 "nbformat": 4,
 "nbformat_minor": 5
}
